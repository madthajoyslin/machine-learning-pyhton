{
 "cells": [
  {
   "cell_type": "code",
   "execution_count": 2,
   "id": "b53801d0-c957-41e1-869c-542a9e1a4ae4",
   "metadata": {},
   "outputs": [],
   "source": [
    "# Write a Python program to sum all the items in a list."
   ]
  },
  {
   "cell_type": "code",
   "execution_count": 1,
   "id": "80a7a7bc-cec1-4832-acb8-7d6ae9ba9ae9",
   "metadata": {},
   "outputs": [
    {
     "name": "stdout",
     "output_type": "stream",
     "text": [
      "The sum of the list is: 15\n"
     ]
    }
   ],
   "source": [
    "def sum_list(numbers):\n",
    "  total = 0\n",
    "  for num in numbers:\n",
    "    total += num\n",
    "  return total\n",
    "numbers = [1, 2, 3, 4, 5]\n",
    "result = sum_list(numbers)\n",
    "print(f\"The sum of the list is: {result}\")\n"
   ]
  },
  {
   "cell_type": "code",
   "execution_count": 3,
   "id": "d48db67e-76a1-4de2-95d4-5a79faf61a2d",
   "metadata": {},
   "outputs": [],
   "source": [
    "# Create a function that takes a list of numbers as input and returns a new list with only the even numbers from the original list\n"
   ]
  },
  {
   "cell_type": "code",
   "execution_count": 5,
   "id": "0275ec81-1625-4b55-b640-ee194e7debc9",
   "metadata": {},
   "outputs": [
    {
     "name": "stdout",
     "output_type": "stream",
     "text": [
      "Even numbers in the list: [2, 4, 6]\n"
     ]
    }
   ],
   "source": [
    "def get_even_numbers(numbers):\n",
    "  even_list = []\n",
    "  for num in numbers:\n",
    "    if num % 2 == 0:\n",
    "      even_list.append(num)\n",
    "  return even_list\n",
    "numbers = [1, 2, 3, 4, 5, 6]\n",
    "even_numbers = get_even_numbers(numbers)\n",
    "print(f\"Even numbers in the list: {even_numbers}\")  \n"
   ]
  },
  {
   "cell_type": "markdown",
   "id": "03b1af0c-d946-4717-9b44-267cfdb6b515",
   "metadata": {},
   "source": [
    "# Write a Python program to remove duplicates from a list."
   ]
  },
  {
   "cell_type": "code",
   "execution_count": 7,
   "id": "2b908013-c001-49c4-a9fa-1a035b31f4b4",
   "metadata": {},
   "outputs": [
    {
     "name": "stdout",
     "output_type": "stream",
     "text": [
      "List without duplicates: [1, 2, 3, 4, 5]\n"
     ]
    }
   ],
   "source": [
    "def remove_duplicates(data):\n",
    "  seen = set()\n",
    "  unique_list = []\n",
    "  for item in data:\n",
    "    if item not in seen:\n",
    "      seen.add(item)\n",
    "      unique_list.append(item)\n",
    "  return unique_list\n",
    "data = [1, 2, 2, 3, 4, 4, 5, 5]\n",
    "unique_data = remove_duplicates(data)\n",
    "print(f\"List without duplicates: {unique_data}\")\n"
   ]
  },
  {
   "cell_type": "markdown",
   "id": "109de4c3-ab2c-4a54-8685-6850b3172e75",
   "metadata": {},
   "source": [
    "# Implement a function to find the second largest number in a list."
   ]
  },
  {
   "cell_type": "code",
   "execution_count": 8,
   "id": "d9d047e8-ca2b-4a6d-9f57-8d20fa47562d",
   "metadata": {},
   "outputs": [
    {
     "name": "stdout",
     "output_type": "stream",
     "text": [
      "Second largest number: 15\n"
     ]
    }
   ],
   "source": [
    "def find_second_largest(numbers):\n",
    "  if len(numbers) < 2:\n",
    "    return None \n",
    "  largest = second_largest = float('-inf') \n",
    "  for num in numbers:\n",
    "    if num > largest:\n",
    "      second_largest = largest\n",
    "      largest = num\n",
    "    elif num > second_largest and num != largest:\n",
    "      second_largest = num\n",
    "  return second_largest\n",
    "numbers = [10, 5, 15, 2, 20]\n",
    "second_max = find_second_largest(numbers)\n",
    "print(f\"Second largest number: {second_max}\")\n"
   ]
  },
  {
   "cell_type": "markdown",
   "id": "6b37682f-932b-429e-9e1f-abb694615a67",
   "metadata": {},
   "source": [
    "# Write a Python program to shuffle and print a list."
   ]
  },
  {
   "cell_type": "code",
   "execution_count": 9,
   "id": "6b900739-b19e-4264-bcc1-71c6aca949e1",
   "metadata": {},
   "outputs": [
    {
     "name": "stdout",
     "output_type": "stream",
     "text": [
      "Shuffled list: [5, 2, 3, 1, 4]\n"
     ]
    }
   ],
   "source": [
    "import random\n",
    "\n",
    "def shuffle_and_print(data):\n",
    "  random.shuffle(data)\n",
    "  print(f\"Shuffled list: {data}\")\n",
    "data = [1, 2, 3, 4, 5]\n",
    "shuffle_and_print(data.copy())\n"
   ]
  },
  {
   "cell_type": "markdown",
   "id": "7b732d23-65fe-4377-9ddc-3db11d4ca748",
   "metadata": {},
   "source": [
    "### tuples\n"
   ]
  },
  {
   "cell_type": "code",
   "execution_count": 11,
   "id": "5ad443e5-7923-45aa-90b7-e2de7c9401c8",
   "metadata": {},
   "outputs": [],
   "source": [
    " # Write a Python program to reverse a tuple."
   ]
  },
  {
   "cell_type": "code",
   "execution_count": 12,
   "id": "ef4c3626-1e8a-41e3-9a2d-bfdde8a5b1d8",
   "metadata": {},
   "outputs": [
    {
     "name": "stdout",
     "output_type": "stream",
     "text": [
      "Reversed tuple: (4, 3, 2, 1)\n"
     ]
    }
   ],
   "source": [
    "def reverse_tuple(data):\n",
    "  return data[::-1]\n",
    "my_tuple = (1, 2, 3, 4)\n",
    "reversed_tuple = reverse_tuple(my_tuple)\n",
    "print(f\"Reversed tuple: {reversed_tuple}\")\n"
   ]
  },
  {
   "cell_type": "code",
   "execution_count": 13,
   "id": "39a5ddcc-fd31-44c3-a9f4-1f7103952e62",
   "metadata": {},
   "outputs": [],
   "source": [
    "# Create a function that takes two tuples as input and returns a new tuple containing elements that are common in both tuples."
   ]
  },
  {
   "cell_type": "code",
   "execution_count": 14,
   "id": "9a802029-f855-4668-a0a2-013f516ec09e",
   "metadata": {},
   "outputs": [
    {
     "name": "stdout",
     "output_type": "stream",
     "text": [
      "Elements common to both tuples: (2, 4)\n"
     ]
    }
   ],
   "source": [
    "def common_elements(tuple1, tuple2):\n",
    "  common = []\n",
    "  for item in tuple1:\n",
    "    if item in tuple2:\n",
    "      common.append(item)\n",
    "  return tuple(common)\n",
    "tuple1 = (1, 2, 3, 4)\n",
    "tuple2 = (2, 4, 6, 8)\n",
    "common_data = common_elements(tuple1, tuple2)\n",
    "print(f\"Elements common to both tuples: {common_data}\")\n"
   ]
  },
  {
   "cell_type": "code",
   "execution_count": 15,
   "id": "a15cf24e-5ccd-4cd8-a16f-f764775258e7",
   "metadata": {},
   "outputs": [],
   "source": [
    "# Write a Python program to convert a tuple to a string."
   ]
  },
  {
   "cell_type": "code",
   "execution_count": 16,
   "id": "2180dd6a-7fb3-49cd-952e-08a731ab4eac",
   "metadata": {},
   "outputs": [
    {
     "name": "stdout",
     "output_type": "stream",
     "text": [
      "Tuple converted to string: 1, hello, 3.4\n"
     ]
    }
   ],
   "source": [
    "def tuple_to_string(data):\n",
    "  return ', '.join(str(item) for item in data)\n",
    "my_tuple = (1, \"hello\", 3.4)\n",
    "tuple_string = tuple_to_string(my_tuple)\n",
    "print(f\"Tuple converted to string: {tuple_string}\")\n"
   ]
  },
  {
   "cell_type": "code",
   "execution_count": 17,
   "id": "a5a1926b-5d6c-4def-82c5-9319d5c5cf48",
   "metadata": {},
   "outputs": [],
   "source": [
    "# Implement a function to find the index of an element in a tuple."
   ]
  },
  {
   "cell_type": "code",
   "execution_count": 18,
   "id": "c32a22a8-8913-475b-9458-75dfbc5b6123",
   "metadata": {},
   "outputs": [
    {
     "name": "stdout",
     "output_type": "stream",
     "text": [
      "Index of element 20: 1\n"
     ]
    }
   ],
   "source": [
    "def find_index(data, element):\n",
    "  try:\n",
    "    return data.index(element)\n",
    "  except ValueError:\n",
    "    return -1\n",
    "my_tuple = (10, 20, 30, 20)\n",
    "index = find_index(my_tuple, 20)\n",
    "print(f\"Index of element 20: {index}\")  # Output: 1 (first occurrence)\n"
   ]
  },
  {
   "cell_type": "code",
   "execution_count": 19,
   "id": "87329b95-8196-4a61-9fd4-5f751e1da6a5",
   "metadata": {},
   "outputs": [],
   "source": [
    "#  Create a program to concatenate two tuples."
   ]
  },
  {
   "cell_type": "code",
   "execution_count": 20,
   "id": "ba904bc1-437a-46a6-a9e3-b6280dfbc133",
   "metadata": {},
   "outputs": [
    {
     "name": "stdout",
     "output_type": "stream",
     "text": [
      "Concatenated tuple: (1, 2, 3, 4, 5, 6)\n"
     ]
    }
   ],
   "source": [
    "def concatenate_tuples(tuple1, tuple2):\n",
    "  return tuple1 + tuple2\n",
    "tuple1 = (1, 2, 3)\n",
    "tuple2 = (4, 5, 6)\n",
    "combined_tuple = concatenate_tuples(tuple1, tuple2)\n",
    "print(f\"Concatenated tuple: {combined_tuple}\")\n"
   ]
  },
  {
   "cell_type": "markdown",
   "id": "6eaa9ad8-c13c-4013-9109-0ac3b1fd000f",
   "metadata": {},
   "source": [
    "### Dictionaries:\n"
   ]
  },
  {
   "cell_type": "code",
   "execution_count": 21,
   "id": "ac2817e4-fb62-4378-9bc0-3ffb78280104",
   "metadata": {},
   "outputs": [],
   "source": [
    "# Write a Python script to sort (ascending and descending) a dictionary by its values.\n"
   ]
  },
  {
   "cell_type": "code",
   "execution_count": 22,
   "id": "f23ef5eb-0017-4421-a383-cee6b076b673",
   "metadata": {},
   "outputs": [
    {
     "name": "stdout",
     "output_type": "stream",
     "text": [
      "Ascending order: [('b', 5), ('a', 10), ('c', 15)]\n",
      "Descending order: [('c', 15), ('a', 10), ('b', 5)]\n"
     ]
    }
   ],
   "source": [
    "def sort_by_value(data, reverse=False):\n",
    "  return sorted(data.items(), key=lambda item: item[1], reverse=reverse)\n",
    "my_dict = {\"a\": 10, \"b\": 5, \"c\": 15}\n",
    "sorted_ascending = sort_by_value(my_dict.copy())\n",
    "print(f\"Ascending order: {sorted_ascending}\")\n",
    "sorted_descending = sort_by_value(my_dict.copy(), reverse=True)\n",
    "print(f\"Descending order: {sorted_descending}\")\n"
   ]
  },
  {
   "cell_type": "code",
   "execution_count": 23,
   "id": "dad8b3fd-7989-49fb-b686-b0a8cad923f9",
   "metadata": {},
   "outputs": [],
   "source": [
    "# Create a function that takes a dictionary as input and returns the sum of all its values."
   ]
  },
  {
   "cell_type": "code",
   "execution_count": 24,
   "id": "2c1ecbf6-4b5d-4547-a6ce-16289ddd9ab1",
   "metadata": {},
   "outputs": [
    {
     "name": "stdout",
     "output_type": "stream",
     "text": [
      "Sum of all values: 6\n"
     ]
    }
   ],
   "source": [
    "def sum_values(data):\n",
    "  total = 0\n",
    "  for value in data.values():\n",
    "    total += value\n",
    "  return total\n",
    "my_dict = {\"x\": 1, \"y\": 2, \"z\": 3}\n",
    "total_value = sum_values(my_dict)\n",
    "print(f\"Sum of all values: {total_value}\")\n",
    "\n"
   ]
  },
  {
   "cell_type": "code",
   "execution_count": 25,
   "id": "f3f0fbe9-3776-4233-b324-512eb9012e5f",
   "metadata": {},
   "outputs": [],
   "source": [
    "# Write a Python program to combine two dictionary adding values for common keys."
   ]
  },
  {
   "cell_type": "code",
   "execution_count": 26,
   "id": "020b509b-38e8-4600-b71a-c11c3eb7f40d",
   "metadata": {},
   "outputs": [
    {
     "name": "stdout",
     "output_type": "stream",
     "text": [
      "Combined dictionary: {'a': 6, 'b': 2, 'c': 4}\n"
     ]
    }
   ],
   "source": [
    "def combine_dicts(dict1, dict2):\n",
    "  combined_dict = {**dict1, **dict2}\n",
    "  for key, value in dict2.items():\n",
    "    if key in dict1:\n",
    "      combined_dict[key] += value\n",
    "  return combined_dict\n",
    "dict1 = {\"a\": 1, \"b\": 2}\n",
    "dict2 = {\"a\": 3, \"c\": 4}\n",
    "combined_dict = combine_dicts(dict1.copy(), dict2.copy())\n",
    "print(f\"Combined dictionary: {combined_dict}\")\n"
   ]
  },
  {
   "cell_type": "code",
   "execution_count": 27,
   "id": "92a0d028-72b6-4bf5-80a4-a010e512b4ee",
   "metadata": {},
   "outputs": [],
   "source": [
    "# Implement a function to check if a given key already exists in a dictionary."
   ]
  },
  {
   "cell_type": "code",
   "execution_count": 28,
   "id": "f8090f04-2bda-4139-ad6a-b58af69f4d00",
   "metadata": {},
   "outputs": [
    {
     "name": "stdout",
     "output_type": "stream",
     "text": [
      "Key 'age' exists: True\n"
     ]
    }
   ],
   "source": [
    "def key_exists(data, key):\n",
    "  return key in data\n",
    "my_dict = {\"name\": \"Alice\", \"age\": 30}\n",
    "key_to_check = \"age\"\n",
    "exists = key_exists(my_dict, key_to_check)\n",
    "print(f\"Key '{key_to_check}' exists: {exists}\")\n"
   ]
  },
  {
   "cell_type": "code",
   "execution_count": 29,
   "id": "da92d803-39da-404d-b5a0-832dc2095ecf",
   "metadata": {},
   "outputs": [],
   "source": [
    "#Create a program to iterate over dictionaries using loops and comprehensions, printing key-value pairs."
   ]
  },
  {
   "cell_type": "code",
   "execution_count": 30,
   "id": "d5b2a432-8155-4c16-acfd-b0b86749a2d8",
   "metadata": {},
   "outputs": [
    {
     "name": "stdout",
     "output_type": "stream",
     "text": [
      "name: Bob\n",
      "city: New York\n",
      "{'city: New York', 'name: Bob'}\n"
     ]
    }
   ],
   "source": [
    "my_dict = {\"name\": \"Bob\", \"city\": \"New York\"}\n",
    "for key, value in my_dict.items():\n",
    "  print(f\"{key}: {value}\")\n",
    "print({f\"{key}: {value}\" for key, value in my_dict.items()})\n"
   ]
  },
  {
   "cell_type": "markdown",
   "id": "7f9a6b04-5e90-4481-99a0-163ea856cf46",
   "metadata": {},
   "source": [
    "### Sets:"
   ]
  },
  {
   "cell_type": "code",
   "execution_count": 31,
   "id": "d45d8098-1884-4632-ba85-d6fafd83301b",
   "metadata": {},
   "outputs": [],
   "source": [
    "# Write a Python program to create a set."
   ]
  },
  {
   "cell_type": "code",
   "execution_count": 32,
   "id": "31492042-3491-4214-83f8-bd44f052c913",
   "metadata": {},
   "outputs": [
    {
     "name": "stdout",
     "output_type": "stream",
     "text": [
      "Created set: {'apple', 1, 2, 3}\n",
      "Set from string: {'a', 'b', 'n'}\n"
     ]
    }
   ],
   "source": [
    "my_set = {1, 2, 3, \"apple\"}\n",
    "print(f\"Created set: {my_set}\")\n",
    "another_set = set(\"banana\")\n",
    "print(f\"Set from string: {another_set}\")\n"
   ]
  },
  {
   "cell_type": "code",
   "execution_count": 33,
   "id": "46526f73-48c6-42b7-a0f5-b2e601e22f3d",
   "metadata": {},
   "outputs": [],
   "source": [
    "#Create a function that takes two sets as input and returns a new set containing elements that are common in both sets.\n"
   ]
  },
  {
   "cell_type": "code",
   "execution_count": 34,
   "id": "20b45cd6-29d1-4efc-8243-4029be6bf3a4",
   "metadata": {},
   "outputs": [
    {
     "name": "stdout",
     "output_type": "stream",
     "text": [
      "Elements common to both sets: {2, 4}\n"
     ]
    }
   ],
   "source": [
    "def common_elements(set1, set2):\n",
    "  return set1.intersection(set2)\n",
    "set1 = {1, 2, 3, 4}\n",
    "set2 = {2, 4, 6, 8}\n",
    "common_data = common_elements(set1, set2)\n",
    "print(f\"Elements common to both sets: {common_data}\")\n"
   ]
  },
  {
   "cell_type": "code",
   "execution_count": 35,
   "id": "5715774e-e71c-45f8-8462-22241fbf2592",
   "metadata": {},
   "outputs": [],
   "source": [
    "#Write a Python program to find the difference between two sets.\n"
   ]
  },
  {
   "cell_type": "code",
   "execution_count": 36,
   "id": "137a74d0-c938-4ddd-aec5-a04de7d3d21e",
   "metadata": {},
   "outputs": [
    {
     "name": "stdout",
     "output_type": "stream",
     "text": [
      "Elements in set1 but not in set2: {1, 4}\n"
     ]
    }
   ],
   "source": [
    "def difference_of_sets(set1, set2):\n",
    "  return set1.difference(set2)\n",
    "set1 = {1, 2, 3, 4}\n",
    "set2 = {2, 3}\n",
    "difference = difference_of_sets(set1, set2)\n",
    "print(f\"Elements in set1 but not in set2: {difference}\")\n",
    "\n"
   ]
  },
  {
   "cell_type": "code",
   "execution_count": 37,
   "id": "e12789b4-e25a-4df9-a9ee-677c08197fa9",
   "metadata": {},
   "outputs": [],
   "source": [
    "# Implement a function to check if a set is a subset of another set."
   ]
  },
  {
   "cell_type": "code",
   "execution_count": 38,
   "id": "c68a5108-5333-4907-9b0c-bbd4e09a0641",
   "metadata": {},
   "outputs": [
    {
     "name": "stdout",
     "output_type": "stream",
     "text": [
      "Is set1 a subset of set2: True\n"
     ]
    }
   ],
   "source": [
    "def is_subset(subset, superset):\n",
    "  return subset.issubset(superset)\n",
    "set1 = {1, 2}\n",
    "set2 = {1, 2, 3}\n",
    "is_subset_result = is_subset(set1, set2)\n",
    "print(f\"Is set1 a subset of set2: {is_subset_result}\")\n"
   ]
  },
  {
   "cell_type": "code",
   "execution_count": 39,
   "id": "e647e72a-0885-42a4-b64c-0ebef4e493b9",
   "metadata": {},
   "outputs": [],
   "source": [
    "#Create a program to perform set operations like union, intersection, difference, and symmetric difference."
   ]
  },
  {
   "cell_type": "code",
   "execution_count": 1,
   "id": "7fcbdd60-3be4-4219-bf7e-deea513ab63f",
   "metadata": {},
   "outputs": [
    {
     "name": "stdout",
     "output_type": "stream",
     "text": [
      "Union: {1, 2, 3, 4}\n",
      "Intersection: {2, 3}\n",
      "Difference (set1 - set2): {1}\n",
      "Symmetric Difference: {1, 4}\n"
     ]
    }
   ],
   "source": [
    "def set_operations(set1, set2):\n",
    "  union_result = set1.union(set2)\n",
    "  intersection_result = set1.intersection(set2)\n",
    "  difference_result = set1.difference(set2)\n",
    "  symmetric_difference = set1.symmetric_difference(set2)\n",
    "  return union_result, intersection_result, difference_result, symmetric_difference\n",
    "set1 = {1, 2, 3}\n",
    "set2 = {2, 3, 4}\n",
    "union, intersection, difference, symmetric_diff = set_operations(set1, set2)\n",
    "print(f\"Union: {union}\")\n",
    "print(f\"Intersection: {intersection}\")\n",
    "print(f\"Difference (set1 - set2): {difference}\")\n",
    "print(f\"Symmetric Difference: {symmetric_diff}\")\n"
   ]
  },
  {
   "cell_type": "code",
   "execution_count": null,
   "id": "c1fc79c9-944b-4a44-8280-6e2edd19a957",
   "metadata": {},
   "outputs": [],
   "source": []
  }
 ],
 "metadata": {
  "kernelspec": {
   "display_name": "Python 3 (ipykernel)",
   "language": "python",
   "name": "python3"
  },
  "language_info": {
   "codemirror_mode": {
    "name": "ipython",
    "version": 3
   },
   "file_extension": ".py",
   "mimetype": "text/x-python",
   "name": "python",
   "nbconvert_exporter": "python",
   "pygments_lexer": "ipython3",
   "version": "3.11.7"
  }
 },
 "nbformat": 4,
 "nbformat_minor": 5
}
